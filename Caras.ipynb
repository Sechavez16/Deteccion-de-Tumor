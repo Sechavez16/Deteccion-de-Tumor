{
 "cells": [
  {
   "cell_type": "markdown",
   "id": "5f0193be-d89f-4af2-9750-6e308c0b01d4",
   "metadata": {},
   "source": [
    "1. Sobre la carpeta de imágenes binarias, repetir el experimento que se realizó en clase con los dígitos. Verificar la capacidad para reconocer imágenes con diferentes cantidades de ruido."
   ]
  },
  {
   "cell_type": "code",
   "execution_count": 1,
   "id": "fa49001f-670a-4593-9c29-c2815e1f4f2f",
   "metadata": {},
   "outputs": [
    {
     "data": {
      "text/plain": [
       "(50, 50)"
      ]
     },
     "execution_count": 1,
     "metadata": {},
     "output_type": "execute_result"
    },
    {
     "data": {
      "image/png": "[encoded data removed]",
      "text/plain": [
       "<Figure size 432x288 with 1 Axes>"
      ]
     },
     "metadata": {
      "needs_background": "light"
     },
     "output_type": "display_data"
    }
   ],
   "source": [
    "import matplotlib.pyplot as plt\n",
    "from pathlib import Path\n",
    "import numpy as np\n",
    "import cv2 as cv\n",
    "img = cv.imread('caras/f1.jpg',0)\n",
    "img = cv.resize(img, (50,50))\n",
    "plt.imshow(img, cmap='gray')\n",
    "img.shape"
   ]
  },
  {
   "cell_type": "code",
   "execution_count": 2,
   "id": "54599b31-f128-48aa-aa41-9b45d99e9848",
   "metadata": {},
   "outputs": [],
   "source": [
    "# Recibe una imagen binario uint8 y la convierte a vector columna \n",
    "# con patrones binarios{-1,1}\n",
    "def im2vector(img):\n",
    "    # Se crea un vector con los datos de la imagen\n",
    "    imgData = np.asarray(img)\n",
    "    # Los datos binarios del vector de 0 y 255 se pasan a -1 y 1.\n",
    "    imgData = (imgData/255)*2 - 1\n",
    "    # se convierte a entero, ya que habiam quedado float\n",
    "    imgData = imgData.astype('int8')\n",
    "    # se obtiene el tamaño del arreglo\n",
    "    size = imgData.size\n",
    "    # Se convierte a vector columna\n",
    "    imgData = imgData.reshape(size,1)\n",
    "    return(imgData)"
   ]
  },
  {
   "cell_type": "code",
   "execution_count": 3,
   "id": "5e100840-41b2-4846-93c1-22dee52e90b7",
   "metadata": {},
   "outputs": [
    {
     "data": {
      "text/plain": [
       "array([[0, 0, 0, ..., 0, 0, 0]], dtype=int8)"
      ]
     },
     "execution_count": 3,
     "metadata": {},
     "output_type": "execute_result"
    }
   ],
   "source": [
    "imSalida = im2vector(img)\n",
    "imSalida.T"
   ]
  },
  {
   "cell_type": "code",
   "execution_count": 4,
   "id": "194346ba-3740-40aa-8b98-b0d08087c83e",
   "metadata": {},
   "outputs": [
    {
     "data": {
      "text/plain": [
       "['f1.jpg',\n",
       " 'f2.jpg',\n",
       " 'f3.jpg',\n",
       " 'f4.jpg',\n",
       " 'f5.jpg',\n",
       " 'f6.jpg',\n",
       " 'f7.jpg',\n",
       " 'f8.jpg',\n",
       " 'f9.jpg']"
      ]
     },
     "execution_count": 4,
     "metadata": {},
     "output_type": "execute_result"
    }
   ],
   "source": [
    "# Para obtener una lsta con los nombres de archivos del directorio\n",
    "def ls(ruta = Path.cwd()):\n",
    "    return [arch.name for arch in Path(ruta).iterdir() if arch.is_file()]\n",
    "lis = ls()\n",
    "lis = ls('caras')\n",
    "lis"
   ]
  },
  {
   "cell_type": "code",
   "execution_count": 5,
   "id": "294fda91-e148-4e24-afc4-139decfc1cb4",
   "metadata": {},
   "outputs": [],
   "source": [
    "# funcion para crear el conjunto de entrenamiento a partir de las imagenes en el directorio\n",
    "\n",
    "\n",
    "def datosImagenes(directorio):\n",
    "    # Cargamos la lista de archivos en el directorio\n",
    "    lis = ls(directorio)\n",
    "    # Valor del umbral para binarizar\n",
    "    THRESHOLD = 100\n",
    "    # Se crea una matriz vacía para ir añadiendo los patrones\n",
    "    #P = np.zeros((3145728, 1),np.uint8)\n",
    "    P = np.array([])\n",
    "    #P = cv.resize(P, (5184, 6912))\n",
    "    for archivo in lis:\n",
    "        #Se carga la imagen cuyo nombre esta en la variable archivo\n",
    "        img = cv.imread(directorio+\"/\"+archivo,0)\n",
    "        # de imagen RGB a Binaria\n",
    "        umbral, new_im = cv.threshold(img, THRESHOLD,255, cv.THRESH_BINARY)\n",
    "        #Cambiamos el tamaño\n",
    "        new_im = cv.resize(new_im, (50,50))\n",
    "        # convertimos la imagen a vector columna\n",
    "        \n",
    "        vector = im2vector(new_im)\n",
    "        # Adjuntamos vector por vector en la matriz, como una nueva columna\n",
    "        if (P.size==0):\n",
    "            P = vector\n",
    "        else:\n",
    "            P = np.c_[P,vector]\n",
    "        \n",
    "    #  fin del for\n",
    "\n",
    "    return(P)"
   ]
  },
  {
   "cell_type": "code",
   "execution_count": 6,
   "id": "adfebb04-ff76-49f7-b96b-d142a6258a38",
   "metadata": {},
   "outputs": [],
   "source": [
    "matrizVectores = datosImagenes('caras')"
   ]
  },
  {
   "cell_type": "code",
   "execution_count": 7,
   "id": "a157e3cf-3723-4d65-8db7-2e1b0acb0397",
   "metadata": {},
   "outputs": [
    {
     "data": {
      "text/plain": [
       "array([[1, 1, 1, 1, 1, 1, 1, 1, 1],\n",
       "       [1, 1, 1, 1, 1, 1, 1, 1, 1],\n",
       "       [1, 1, 1, 1, 1, 1, 1, 1, 1],\n",
       "       [1, 1, 1, 1, 1, 1, 1, 1, 1],\n",
       "       [1, 1, 1, 1, 1, 1, 1, 1, 1]], dtype=int8)"
      ]
     },
     "execution_count": 7,
     "metadata": {},
     "output_type": "execute_result"
    }
   ],
   "source": [
    "matrizVectores[:5,:]"
   ]
  },
  {
   "cell_type": "code",
   "execution_count": 8,
   "id": "8650e6fb-1427-4149-840f-583a20b95ed4",
   "metadata": {},
   "outputs": [
    {
     "data": {
      "text/plain": [
       "(9, 2500)"
      ]
     },
     "execution_count": 8,
     "metadata": {},
     "output_type": "execute_result"
    }
   ],
   "source": [
    "X = matrizVectores.T\n",
    "X.shape\n"
   ]
  },
  {
   "cell_type": "code",
   "execution_count": 9,
   "id": "9eff8ddf-97f0-4983-bea8-2c7042d1d837",
   "metadata": {},
   "outputs": [
    {
     "data": {
      "text/plain": [
       "array([0, 1, 2, 3, 4, 5, 6, 7, 8])"
      ]
     },
     "execution_count": 9,
     "metadata": {},
     "output_type": "execute_result"
    }
   ],
   "source": [
    "lista = list(range(9))\n",
    "Y = np.array(lista)\n",
    "Y"
   ]
  },
  {
   "cell_type": "code",
   "execution_count": 10,
   "id": "fa421771-ae50-4d22-a9a1-23483a0a18db",
   "metadata": {},
   "outputs": [
    {
     "data": {
      "text/plain": [
       "MLPClassifier(activation='tanh', hidden_layer_sizes=(4, 4), max_iter=5000)"
      ]
     },
     "execution_count": 10,
     "metadata": {},
     "output_type": "execute_result"
    }
   ],
   "source": [
    "## Entrenar un MLP para memorizar los dígitos\n",
    "\n",
    "from sklearn.neural_network import MLPClassifier\n",
    "\n",
    "net = MLPClassifier(activation='tanh', max_iter=5000, hidden_layer_sizes=(4,4))\n",
    "net.fit(X, Y)\n"
   ]
  },
  {
   "cell_type": "code",
   "execution_count": 11,
   "id": "26eb9bbe-7da1-4a98-a2a6-cdf441993819",
   "metadata": {},
   "outputs": [
    {
     "name": "stdout",
     "output_type": "stream",
     "text": [
      "prediccion: [1 1 7 3 4 5 6 7 3]\n"
     ]
    }
   ],
   "source": [
    "# Se calcula la salida para el conjunto de entrada\n",
    "print('prediccion:', net.predict(X))"
   ]
  },
  {
   "cell_type": "code",
   "execution_count": 12,
   "id": "50fdb4a9-0a4f-49e6-bf90-2b67e136ba92",
   "metadata": {},
   "outputs": [],
   "source": [
    "# Una función que agrege ruido a una imagen de entrada\n",
    "\n",
    "def addNoise(img,porc):\n",
    "    imgData = np.asarray(img)\n",
    "    imgData2 = np.copy(imgData)\n",
    "    f,c = imgData.shape\n",
    "    for i in range(f):\n",
    "        for j in range(c):\n",
    "            if (np.random.rand(1)*100)<porc:\n",
    "                if np.random.rand(1)<0.5:\n",
    "                    imgData2[i,j]=255\n",
    "                else:\n",
    "                    imgData2[i,j]=0\n",
    "    imNoise = imgData2.astype('uint8')\n",
    "    return(imNoise) \n",
    "def vector2im(vector,f,c):\n",
    "    # se convierte a matriz f x c\n",
    "    vector = vector.reshape(f,c)\n",
    "    # Se binariza a 0-255\n",
    "    vector = ((vector +1)/2)*255\n",
    "    # se convierte el arreglo a entero 0 a 255\n",
    "    im = vector.astype('uint8')\n",
    "    return(im)"
   ]
  },
  {
   "cell_type": "code",
   "execution_count": 13,
   "id": "0df57968-40af-4c28-9e6a-57aaf1535444",
   "metadata": {},
   "outputs": [
    {
     "data": {
      "text/plain": [
       "(2500, 1)"
      ]
     },
     "execution_count": 13,
     "metadata": {},
     "output_type": "execute_result"
    }
   ],
   "source": [
    "nuevaImagen = vector2im(imSalida,2500,1)\n",
    "imgRuido = addNoise(nuevaImagen,30)\n",
    "imgRuido.shape"
   ]
  },
  {
   "cell_type": "code",
   "execution_count": 14,
   "id": "f1b302e5-57d5-4786-9658-da5bdd8dd666",
   "metadata": {},
   "outputs": [
    {
     "name": "stdout",
     "output_type": "stream",
     "text": [
      "prediccion: [3]\n"
     ]
    }
   ],
   "source": [
    "entrada = im2vector(imgRuido).T\n",
    "# Se calcula la salida para el conjunto de entrada\n",
    "print('prediccion:', net.predict(entrada))"
   ]
  },
  {
   "cell_type": "markdown",
   "id": "04985521-7d53-461b-95da-8c4fab84ed60",
   "metadata": {},
   "source": [
    "2- Teniendo en cuenta el conjunto de imágenes de caras suministradas realizar las siguientes acciones."
   ]
  },
  {
   "cell_type": "code",
   "execution_count": 15,
   "id": "9c54bbb2-64e4-4aae-8188-be226f775b31",
   "metadata": {},
   "outputs": [
    {
     "data": {
      "text/plain": [
       "(50, 50)"
      ]
     },
     "execution_count": 15,
     "metadata": {},
     "output_type": "execute_result"
    },
    {
     "data": {
      "image/png": "[encoded data removed]",
      "text/plain": [
       "<Figure size 432x288 with 1 Axes>"
      ]
     },
     "metadata": {
      "needs_background": "light"
     },
     "output_type": "display_data"
    }
   ],
   "source": [
    "img2 = cv.imread('imagenesBinarias/test-caras/p2.jpg',0)\n",
    "img2 = cv.resize(img, (50,50))\n",
    "plt.imshow(img2, cmap='gray')\n",
    "img2.shape"
   ]
  },
  {
   "cell_type": "code",
   "execution_count": 16,
   "id": "3aea9d56-9213-4436-a100-b20bf14260fd",
   "metadata": {},
   "outputs": [
    {
     "name": "stdout",
     "output_type": "stream",
     "text": [
      "prediccion: [8]\n"
     ]
    }
   ],
   "source": [
    "imSalida2 = im2vector(img2)\n",
    "imSalida2.T\n",
    "nuevaImagen2 = vector2im(imSalida2,2500,1)\n",
    "entrada2 = im2vector(img2).T\n",
    "# Se calcula la salida para el conjunto de entrada\n",
    "print('prediccion:', net.predict(entrada2))"
   ]
  }
 ],
 "metadata": {
  "kernelspec": {
   "display_name": "Python 3 (ipykernel)",
   "language": "python",
   "name": "python3"
  },
  "language_info": {
   "codemirror_mode": {
    "name": "ipython",
    "version": 3
   },
   "file_extension": ".py",
   "mimetype": "text/x-python",
   "name": "python",
   "nbconvert_exporter": "python",
   "pygments_lexer": "ipython3",
   "version": "3.9.12"
  }
 },
 "nbformat": 4,
 "nbformat_minor": 5
}
